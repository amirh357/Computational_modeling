{
 "cells": [
  {
   "cell_type": "code",
   "execution_count": 1,
   "id": "bd852f9b",
   "metadata": {},
   "outputs": [],
   "source": [
    "# particle filtering (PF) application to SEIR epidemiology models\n",
    "# Reference article: Li et al. (2018): Applying particle filtering in both aggregated and age-structured population compartmental models of pre-vaccination measles"
   ]
  },
  {
   "cell_type": "code",
   "execution_count": 3,
   "id": "61433d4f",
   "metadata": {},
   "outputs": [],
   "source": [
    "# required libraries\n",
    "import numpy as np\n",
    "import pandas as pd\n",
    "import math\n",
    "from scipy.integrate import odeint\n",
    "from scipy.stats import nbinom, poisson\n",
    "from scipy.special import logit, expit\n",
    "from scipy.stats import nbinom\n",
    "import matplotlib.pyplot as plt\n",
    "from numpy.random import uniform\n",
    "import random"
   ]
  },
  {
   "cell_type": "code",
   "execution_count": 12,
   "id": "b3eca5d7",
   "metadata": {},
   "outputs": [
    {
     "data": {
      "text/plain": [
       "array([0, 1, 1, 0, 0, 1, 0, 0, 0, 0])"
      ]
     },
     "execution_count": 12,
     "metadata": {},
     "output_type": "execute_result"
    }
   ],
   "source": [
    "poisson.rvs(0.2,size = 10)"
   ]
  },
  {
   "cell_type": "code",
   "execution_count": null,
   "id": "556fab51",
   "metadata": {},
   "outputs": [],
   "source": [
    "# SEIR function\n",
    "def SEIR(z,t,beta,mu,nu,sigma, gamma,N):\n",
    "    S = z[0] # susceptible\n",
    "    E = z[1] # exposed\n",
    "    I = z[2] # infected\n",
    "    R = z[3] # recovered\n",
    "    # nu: birth rate (1/month)\n",
    "    # mu: death rate (1/month)\n",
    "    # beta: rate of effective contact\n",
    "    # N: total population\n",
    "    # sigma: 1/mean incubation period (in month)\n",
    "    # gamma: 1/mean infectious period (in month)\n",
    "    # N: total population\n",
    "    dSdt = N*nu - poisson.rvs(beta*S*I/N) - mu *S\n",
    "    dEdt = poisson.rvs(beta*S*I/N) - (sigma+mu)*E\n",
    "    dIdt = sigma*E - (gamma + mu)*I\n",
    "    dRdt = gamma*I - mu*R\n",
    "    dZdt = [dSdt,dEdt,dIdt,dRdt]\n",
    "    return dZdt"
   ]
  }
 ],
 "metadata": {
  "kernelspec": {
   "display_name": "Python 3",
   "language": "python",
   "name": "python3"
  },
  "language_info": {
   "codemirror_mode": {
    "name": "ipython",
    "version": 3
   },
   "file_extension": ".py",
   "mimetype": "text/x-python",
   "name": "python",
   "nbconvert_exporter": "python",
   "pygments_lexer": "ipython3",
   "version": "3.7.11"
  },
  "varInspector": {
   "cols": {
    "lenName": 16,
    "lenType": 16,
    "lenVar": 40
   },
   "kernels_config": {
    "python": {
     "delete_cmd_postfix": "",
     "delete_cmd_prefix": "del ",
     "library": "var_list.py",
     "varRefreshCmd": "print(var_dic_list())"
    },
    "r": {
     "delete_cmd_postfix": ") ",
     "delete_cmd_prefix": "rm(",
     "library": "var_list.r",
     "varRefreshCmd": "cat(var_dic_list()) "
    }
   },
   "types_to_exclude": [
    "module",
    "function",
    "builtin_function_or_method",
    "instance",
    "_Feature"
   ],
   "window_display": false
  }
 },
 "nbformat": 4,
 "nbformat_minor": 5
}
